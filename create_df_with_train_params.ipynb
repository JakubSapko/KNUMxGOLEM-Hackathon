{
 "cells": [
  {
   "cell_type": "code",
   "execution_count": 1,
   "metadata": {},
   "outputs": [],
   "source": [
    "import pandas as pd\n",
    "import csv\n",
    "import numpy as np"
   ]
  },
  {
   "cell_type": "code",
   "execution_count": null,
   "metadata": {},
   "outputs": [],
   "source": [
    "PATH_TO_TRAIN_CSV = \"\""
   ]
  },
  {
   "cell_type": "code",
   "execution_count": 2,
   "metadata": {},
   "outputs": [
    {
     "ename": "",
     "evalue": "",
     "output_type": "error",
     "traceback": [
      "\u001b[1;31mCanceled future for execute_request message before replies were done"
     ]
    },
    {
     "ename": "",
     "evalue": "",
     "output_type": "error",
     "traceback": [
      "\u001b[1;31mThe Kernel crashed while executing code in the the current cell or a previous cell. Please review the code in the cell(s) to identify a possible cause of the failure. Click <a href='https://aka.ms/vscodeJupyterKernelCrash'>here</a> for more info. View Jupyter <a href='command:jupyter.viewOutput'>log</a> for further details."
     ]
    }
   ],
   "source": [
    "df = pd.read_csv(PATH_TO_TRAIN_CSV = \"\")\n",
    "print(df)"
   ]
  },
  {
   "cell_type": "code",
   "execution_count": 45,
   "metadata": {},
   "outputs": [],
   "source": [
    "df.to_feather(\"train_df_raw.feather\")"
   ]
  },
  {
   "cell_type": "code",
   "execution_count": null,
   "metadata": {},
   "outputs": [],
   "source": [
    "\n"
   ]
  },
  {
   "cell_type": "code",
   "execution_count": 3,
   "metadata": {},
   "outputs": [],
   "source": [
    "def parse_params(row_params: str):\n",
    "    list_params = row_params.split(\"<br>\")\n",
    "    results = {}\n",
    "\n",
    "    for line in list_params:\n",
    "        if line == \"\":\n",
    "            continue\n",
    "        label_value = line.split(\"<=>\")\n",
    "        label = label_value[0]\n",
    "        values = label_value[1].split(\"<->\")\n",
    "        if len(values) == 1 and values[0] == \"\":\n",
    "            values = None\n",
    "        results[label] = values\n",
    "    \n",
    "    return results\n",
    "        \n",
    "\n",
    "    "
   ]
  },
  {
   "cell_type": "code",
   "execution_count": 4,
   "metadata": {},
   "outputs": [],
   "source": [
    "def find_all_params(df):\n",
    "    all_params_labels = set()\n",
    "    all_params_values = set()\n",
    "    for row in df.itertuples(index=False): \n",
    "        params = parse_params(row[df.columns.get_loc('params')])\n",
    "        labels = list(params.keys())\n",
    "        values = [param for param in list(params.values()) if param != None]\n",
    "        all_params_labels.update(labels)\n",
    "        all_params_values.update(*values)\n",
    "    \n",
    "    return all_params_labels, all_params_values\n",
    "\n"
   ]
  },
  {
   "cell_type": "code",
   "execution_count": 29,
   "metadata": {},
   "outputs": [],
   "source": [
    "def find_all_params_dict(df, labels):\n",
    "    values = {}\n",
    "    for label in labels:\n",
    "        values[label] = set()\n",
    "    \n",
    "    for row in df.itertuples(index=False):\n",
    "        params = parse_params(row[df.columns.get_loc('params')])\n",
    "        for label in list(params.keys()):\n",
    "            try:\n",
    "                values[label].update(params[label])\n",
    "                # print(*params[label])\n",
    "            except:\n",
    "                pass\n",
    "    return values"
   ]
  },
  {
   "cell_type": "code",
   "execution_count": 28,
   "metadata": {},
   "outputs": [],
   "source": [
    "labels_params, all_values = find_all_params(df)\n",
    "with open('params_labels.txt','w') as f:\n",
    "   f.write(str(labels_params))\n",
    "with open('params_values.txt','w') as f:\n",
    "   f.write(str(all_values))\n",
    "values_params_dict = find_all_params_dict(df, labels_params)\n",
    "with open('params_values_dict.txt','w') as f:\n",
    "   for _ in values_params_dict.items():\n",
    "      f.write(str(_))\n",
    "      f.write(\"\\n\")"
   ]
  },
  {
   "cell_type": "code",
   "execution_count": 51,
   "metadata": {},
   "outputs": [],
   "source": [
    "def create_df_advertisement(df):\n",
    "    data = {}\n",
    "    for label in labels_params:\n",
    "        data[label] = []\n",
    "         \n",
    "    for idx, row in df.iterrows():\n",
    "        results = parse_params(row[\"params\"])\n",
    "        for label in labels_params:\n",
    "            try:\n",
    "                data[label].append(results[label])\n",
    "            except:\n",
    "                data[label].append(None)\n",
    "    return data"
   ]
  },
  {
   "cell_type": "code",
   "execution_count": 52,
   "metadata": {},
   "outputs": [],
   "source": [
    "data = create_df_advertisement(df)\n",
    "for label in list(data.keys()):\n",
    "    if data[label] != None:\n",
    "        df[label] = data[label]"
   ]
  },
  {
   "cell_type": "code",
   "execution_count": 54,
   "metadata": {},
   "outputs": [
    {
     "data": {
      "text/plain": [
       "id                                                                513427\n",
       "created_at_first                                     2019-02-18 12:17:51\n",
       "category                                          Mieszkanie na sprzedaż\n",
       "is_business                                                            1\n",
       "district_id                                                          NaN\n",
       "city_id                                                             3614\n",
       "region_id                                                             15\n",
       "description            <p>[b]Plewiska lokal 2-poziomowy w zabudowie s...\n",
       "params                 price[currency]<=>PLN<br>m<=>95<br>rooms_num<=...\n",
       "title                        Plewiska mieszkanie 2-poziomowe z ogródkiem\n",
       "price                                                             500000\n",
       "rent                                                                None\n",
       "terrain_area                                                        None\n",
       "building_type                                                   [ribbon]\n",
       "rent_to_students                                                    None\n",
       "price[currency]                                                    [PLN]\n",
       "fence                                                               None\n",
       "media_types                          [cable-television, internet, phone]\n",
       "building_ownership                                      [full_ownership]\n",
       "build_year                                                        [2014]\n",
       "heating                                                            [gas]\n",
       "rooms_num                                                            [4]\n",
       "recreational                                                        None\n",
       "floors_num                                                          None\n",
       "fence_types                                                         None\n",
       "security_types                            [closed_area, roller_shutters]\n",
       "floor_no                                                  [ground_floor]\n",
       "construction_status                                       [ready_to_use]\n",
       "market                                                       [secondary]\n",
       "is_bungalow                                                         None\n",
       "deposit[currency]                                                   None\n",
       "rent[currency]                                                     [PLN]\n",
       "roofing                                                             None\n",
       "deposit                                                             None\n",
       "m                                                                   [95]\n",
       "access_types                                                        None\n",
       "building_floors_num                                                  [1]\n",
       "building_material                                                [brick]\n",
       "location                                                            None\n",
       "use_types                                                           None\n",
       "free_from                                                           None\n",
       "type                                                                None\n",
       "dimensions                                                          None\n",
       "extras_types           [garage, garden, terrace, two_storey, usable_r...\n",
       "heating_types                                                       None\n",
       "garret_type                                                         None\n",
       "equipment_types        [dishwasher, fridge, oven, stove, washing_mach...\n",
       "windows_type                                                   [plastic]\n",
       "roof_type                                                           None\n",
       "vicinity_types                                                      None\n",
       "Name: 1, dtype: object"
      ]
     },
     "execution_count": 54,
     "metadata": {},
     "output_type": "execute_result"
    }
   ],
   "source": [
    "df.iloc[1]"
   ]
  },
  {
   "cell_type": "code",
   "execution_count": null,
   "metadata": {},
   "outputs": [],
   "source": [
    "df.to_feather(\"train_df_with_params.feather\")\n",
    "df.to_csv(\"train_df_with_params.csv\")"
   ]
  }
 ],
 "metadata": {
  "interpreter": {
   "hash": "9bb5ce1aff2984bbbf2572d474c383d0dc32831b37e95987f738077a9b299aee"
  },
  "kernelspec": {
   "display_name": "Python 3.8.5 ('base')",
   "language": "python",
   "name": "python3"
  },
  "language_info": {
   "codemirror_mode": {
    "name": "ipython",
    "version": 3
   },
   "file_extension": ".py",
   "mimetype": "text/x-python",
   "name": "python",
   "nbconvert_exporter": "python",
   "pygments_lexer": "ipython3",
   "version": "3.8.5"
  },
  "orig_nbformat": 4
 },
 "nbformat": 4,
 "nbformat_minor": 2
}
